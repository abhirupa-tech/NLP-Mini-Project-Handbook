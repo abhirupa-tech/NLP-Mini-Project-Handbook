{
 "cells": [
  {
   "cell_type": "markdown",
   "metadata": {},
   "source": [
    "<h3> Importing the Libraries Needed for Mathematical Statistics </h3>"
   ]
  },
  {
   "cell_type": "code",
   "execution_count": 2,
   "metadata": {},
   "outputs": [],
   "source": [
    "import numpy as np\n",
    "import pandas as pd\n",
    "import matplotlib as mplt"
   ]
  },
  {
   "cell_type": "markdown",
   "metadata": {},
   "source": [
    "<h3> Working with SIngle and Multidimensional Arrays </h3>"
   ]
  },
  {
   "cell_type": "code",
   "execution_count": 6,
   "metadata": {},
   "outputs": [
    {
     "name": "stdout",
     "output_type": "stream",
     "text": [
      "Single Dimensional Array:  [ 1  2  3  4  5  6  7  8  9 10]\n",
      "Multi Dimensional  (3, 3)  Array :\n",
      " [[10 11 12]\n",
      " [20 21 22]\n",
      " [30 31 32]]\n",
      "Single Dimensional Array:  [0. 0. 0. 0. 0. 0. 0. 0. 0. 0.]\n",
      "Multi Dimensional Array: \n",
      " [[0. 0. 0.]\n",
      " [0. 0. 0.]\n",
      " [0. 0. 0.]]\n",
      "Array using linear spacing:  [  0.          11.11111111  22.22222222  33.33333333  44.44444444\n",
      "  55.55555556  66.66666667  77.77777778  88.88888889 100.        ]\n",
      "Flattened array Length: (18,)\n"
     ]
    }
   ],
   "source": [
    "ar1 = np.array([1,2,3,4,5,6,7,8,9,10,])\n",
    "ar2 = np.array([[10,11,12],[20,21,22],[30,31,32]])\n",
    "print(\"Single Dimensional Array: \", ar1)\n",
    "print(\"Multi Dimensional \", ar2.shape, \" Array :\\n\", ar2)\n",
    "\n",
    "#Create an array of desired Dimensions using Zeros/ initialize an array\n",
    "ar3 = np.zeros(ar1.shape)\n",
    "ar4 = np.zeros(ar2.shape)\n",
    "print(\"Single Dimensional Array: \", ar3);\n",
    "print(\"Multi Dimensional Array: \\n\", ar4);\n",
    "\n",
    "#Create a vector using Numpy linspace\n",
    "ar5 = np.linspace(0, 100, 10) # Starting Point, Gap, Stopping Point\n",
    "print(\"Array using linear spacing: \", ar5)\n",
    "\n",
    "#Any List/ Vector or Python array needs to be converted into a numpy array before working on it\n",
    "customArray = [1,4,3,6,2,5]\n",
    "ar6 = np.asarray(customArray)\n",
    "\n",
    "#Creating a 2D array from a Flat array\n",
    "customArray2 = [3,2,5,1,6,0,9,8]\n",
    "ar7 = np.asarray(customArray2)\n",
    "ar7.reshape(2,2,2)\n",
    "\n",
    "ar8 = np.zeros((2,3,3))\n",
    "print(\"Flattened array Length:\", ar8.ravel().shape)\n"
   ]
  },
  {
   "cell_type": "markdown",
   "metadata": {},
   "source": []
  },
  {
   "cell_type": "code",
   "execution_count": 10,
   "metadata": {},
   "outputs": [
    {
     "name": "stdout",
     "output_type": "stream",
     "text": [
      "6\n",
      "Initial Array: [ 2. 16.]\n",
      "Sliced Array: []\n",
      "Extracting the first 2 rows and last 2 columns:\n",
      " [[4 2]\n",
      " [0 0]]\n"
     ]
    }
   ],
   "source": [
    "# Indexing of Numpy Arrays\n",
    "\n",
    "'''arange is for whole intergers, if you need to use\n",
    "Floating Point numbers then best to use linspace'''\n",
    "ar1 = np.arange(2,10) \n",
    "\n",
    "print(ar1[4]) #Should print 6\n",
    "\n",
    "#Slicing the array\n",
    "ar2 = np.linspace(2,16,2)\n",
    "print(\"Initial Array:\", ar2)\n",
    "print(\"Sliced Array:\", ar2[6:10])\n",
    "\n",
    "#Extracting specific Rows and Columns Using Slicing\n",
    "ar3 = np.array([[2,4,2], [0,0,0], [11,21,31]])\n",
    "print(\"Extracting the first 2 rows and last 2 columns:\\n\", ar3[0:2, 1:3])\n"
   ]
  },
  {
   "cell_type": "code",
   "execution_count": 11,
   "metadata": {},
   "outputs": [
    {
     "name": "stdout",
     "output_type": "stream",
     "text": [
      "Shape: (2, 2, 2)\n",
      "Dimensions: 3\n"
     ]
    }
   ],
   "source": [
    "# Numpy array Attributes\n",
    "ar0 = np.array([\n",
    "        [[0,0],[1,3]],\n",
    "        [[2,0],[5,5]]])\n",
    "print (\"Shape:\", ar0.shape) # Should return shape 2,2,2\n",
    "print (\"Dimensions:\", ar0.ndim) # Should return Dimension 3\n"
   ]
  },
  {
   "cell_type": "markdown",
   "metadata": {},
   "source": [
    "<h3> Quick Ramp Up on Pandas </h3>\n",
    "<p>Pandas build on top of Numpy by providing 3 types of Data types:</p>\n",
    "    <ol>\n",
    "        <ul>1D -> Series</ul>\n",
    "        <ul>2D -> Dataframes</ul>\n",
    "        <ul>3D -> Panels</ul>\n",
    "    </ol>\n"
   ]
  },
  {
   "cell_type": "code",
   "execution_count": 17,
   "metadata": {},
   "outputs": [
    {
     "name": "stdout",
     "output_type": "stream",
     "text": [
      "\n",
      "New Series created Series([], dtype: object)\n",
      "\n",
      "Series from Numpy array:\n",
      " 0     1\n",
      "1     6\n",
      "2    11\n",
      "3    16\n",
      "dtype: int32\n",
      "\n",
      "Series from a dictionary\n",
      " sub1                Probability\n",
      "sub2    Artificial Intelligence\n",
      "sub3             Linear Algebra\n",
      "dtype: object\n"
     ]
    }
   ],
   "source": [
    "#Series in Pandas\n",
    "\n",
    "# Creating a new Series\n",
    "s1= pd.Series()\n",
    "print(\"\\nNew Series created\", s1)\n",
    "\n",
    "#Creating a Series from numpy array\n",
    "np1 = np.arange(1,20,5)\n",
    "s2 = pd.Series(np1)\n",
    "print(\"\\nSeries from Numpy array:\\n\", s2)\n",
    "\n",
    "# Series from a Python Dictionary\n",
    "dict = {'sub1': 'Probability', 'sub2': 'Artificial Intelligence', 'sub3' : 'Linear Algebra'}\n",
    "print(\"\\nSeries from a dictionary\\n\", pd.Series(dict))\n"
   ]
  },
  {
   "cell_type": "markdown",
   "metadata": {},
   "source": []
  },
  {
   "cell_type": "code",
   "execution_count": 6,
   "metadata": {},
   "outputs": [
    {
     "name": "stdout",
     "output_type": "stream",
     "text": [
      "          sub1                     sub2               sub3\n",
      "0  Probability           Linear Algebra                NaN\n",
      "1    Chemistry  Artificial Intelligence  Vector Aritmetics\n",
      "                 sub1                     sub2               sub3\n",
      "Course 1  Probability           Linear Algebra                NaN\n",
      "Course 2    Chemistry  Artificial Intelligence  Vector Aritmetics\n"
     ]
    },
    {
     "ename": "",
     "evalue": "",
     "output_type": "error",
     "traceback": [
      "\u001b[1;31mThe Kernel crashed while executing code in the the current cell or a previous cell. Please review the code in the cell(s) to identify a possible cause of the failure. Click <a href='https://aka.ms/vscodeJupyterKernelCrash'>here</a> for more info. View Jupyter <a href='command:jupyter.viewOutput'>log</a> for further details."
     ]
    }
   ],
   "source": [
    "#Data Farmes in Pandas\n",
    "data = [{'sub1': 'Probability', 'sub2': 'Linear Algebra'},{'sub1': 'Chemistry', 'sub2': 'Artificial Intelligence', 'sub3': 'Vector Aritmetics'}]\n",
    "pdDataframe = pd.DataFrame(data);\n",
    "print(pdDataframe)\n",
    "df2 = pd.DataFrame(data, index = ['Course 1', 'Course 2']);\n",
    "print (df2)"
   ]
  },
  {
   "cell_type": "code",
   "execution_count": null,
   "metadata": {},
   "outputs": [],
   "source": []
  }
 ],
 "metadata": {
  "kernelspec": {
   "display_name": "Python 3",
   "language": "python",
   "name": "python3"
  },
  "language_info": {
   "codemirror_mode": {
    "name": "ipython",
    "version": 3
   },
   "file_extension": ".py",
   "mimetype": "text/x-python",
   "name": "python",
   "nbconvert_exporter": "python",
   "pygments_lexer": "ipython3",
   "version": "3.11.7"
  }
 },
 "nbformat": 4,
 "nbformat_minor": 2
}
